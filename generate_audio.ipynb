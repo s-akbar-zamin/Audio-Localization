{
 "cells": [
  {
   "cell_type": "code",
   "execution_count": null,
   "metadata": {},
   "outputs": [],
   "source": [
    "import gzip\n",
    "import os\n",
    "import pickle\n",
    "\n",
    "directions = {\n",
    "    ('left',): 'hardLeft',\n",
    "    ('left', 'up'): 'softLeftFront',\n",
    "    ('left', 'down'): 'softLeftBack',\n",
    "    ('up',): 'front',\n",
    "    ('down',): 'back',\n",
    "    ('right', 'up'): 'softRightFront',\n",
    "    ('right', 'down'): 'softRightBack',\n",
    "    ('right',): 'hardRight',\n",
    "    ('control',): 'center'\n",
    "}\n",
    "\n",
    "conversion = {'Left': 'Right',\n",
    "              'Right': 'Left'}\n",
    "\n",
    "for direction in conversion:\n",
    "    \n",
    "    for filename in os.listdir('AudioData/'):\n",
    "        \n",
    "        if 'generated_' not in filename:\n",
    "        \n",
    "            with gzip.open('AudioData/'+filename, 'rb') as file:\n",
    "                data = pickle.load(file)\n",
    "                S_db, audio_buffer = data['S_db'], data['audio_buffer']\n",
    "                file.close()\n",
    "\n",
    "            S_db[0], S_db[1] = S_db[1], S_db[0]\n",
    "            audio_buffer[0], audio_buffer[1] = audio_buffer[1], audio_buffer[0]\n",
    "            \n",
    "            parameters = {\n",
    "                'audio_buffer': audio_buffer,\n",
    "                'S_db': S_db\n",
    "            }\n",
    "            \n",
    "            new_filename = 'generated_'+filename.replace(direction, conversion[direction])\n",
    "            \n",
    "            if new_filename not in os.listdir('AudioData/'):\n",
    "            \n",
    "                print('Saving', new_filename)\n",
    "\n",
    "                with gzip.open('AudioData/'+new_filename, 'wb') as f:\n",
    "                    pickle.dump(parameters, f)\n"
   ]
  },
  {
   "cell_type": "code",
   "execution_count": null,
   "metadata": {},
   "outputs": [],
   "source": []
  }
 ],
 "metadata": {
  "kernelspec": {
   "display_name": "audio",
   "language": "python",
   "name": "python3"
  },
  "language_info": {
   "codemirror_mode": {
    "name": "ipython",
    "version": 3
   },
   "file_extension": ".py",
   "mimetype": "text/x-python",
   "name": "python",
   "nbconvert_exporter": "python",
   "pygments_lexer": "ipython3",
   "version": "3.6.13"
  },
  "orig_nbformat": 4
 },
 "nbformat": 4,
 "nbformat_minor": 2
}
