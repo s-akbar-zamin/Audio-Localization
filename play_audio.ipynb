{
 "cells": [
  {
   "cell_type": "code",
   "execution_count": 2,
   "metadata": {},
   "outputs": [],
   "source": [
    "import pyaudio\n",
    "import keyboard\n",
    "import numpy as np\n",
    "import matplotlib.pyplot as plt\n",
    "import librosa\n",
    "import librosa.display\n",
    "import keyboard\n",
    "import pickle\n",
    "import gzip\n",
    "import time\n",
    "\n",
    "import warnings\n",
    "warnings.filterwarnings('ignore')\n",
    "\n",
    "%matplotlib tk\n",
    "plt.style.use('dark_background')\n",
    "\n",
    "p = pyaudio.PyAudio()"
   ]
  },
  {
   "cell_type": "code",
   "execution_count": 3,
   "metadata": {},
   "outputs": [],
   "source": [
    "def show_melspec(title):\n",
    "\n",
    "        with gzip.open('AudioData/'+title, 'rb') as file:\n",
    "                S_db = pickle.load(file)['S_db']\n",
    "                file.close()\n",
    "\n",
    "        rate = 48000 # can be changed\n",
    "        duration = 1 # seconds\n",
    "        hop_length = 1024\n",
    "        n_fft = 1024\n",
    "        #window_size = n_fft\n",
    "        n_mels=128\n",
    "        y_axis = 'mel'\n",
    "\n",
    "\n",
    "        fig, ax = plt.subplots(nrows=1, ncols=2, sharex=True, sharey=True, figsize=(10,5))\n",
    "\n",
    "        \n",
    "\n",
    "        img = librosa.display.specshow(S_db[0],\n",
    "                                   ax=ax[0],\n",
    "                                   sr=rate,\n",
    "                                   n_fft=n_fft,\n",
    "                                   x_axis='time',\n",
    "                                   y_axis=y_axis, \n",
    "                                   fmax=rate/2, \n",
    "                                   hop_length=hop_length)\n",
    "\n",
    "        img = librosa.display.specshow(S_db[1],\n",
    "                                   ax=ax[1],\n",
    "                                   sr=rate,\n",
    "                                   n_fft=n_fft,\n",
    "                                   x_axis='time',\n",
    "                                   y_axis=y_axis, \n",
    "                                   fmax=rate/2, \n",
    "                                   hop_length=hop_length)\n",
    "\n",
    "        fig.canvas.draw()\n",
    "\n"
   ]
  },
  {
   "cell_type": "code",
   "execution_count": 5,
   "metadata": {},
   "outputs": [],
   "source": [
    "show_melspec('hardLeft_CSGO_footstep_3.gz')"
   ]
  },
  {
   "cell_type": "code",
   "execution_count": 6,
   "metadata": {},
   "outputs": [
    {
     "name": "stdout",
     "output_type": "stream",
     "text": [
      "(2, 48128)\n"
     ]
    }
   ],
   "source": [
    "def play_audio(title):\n",
    "    with gzip.open('AudioData/'+title, 'rb') as file:\n",
    "        S_db = pickle.load(file)['S_db']\n",
    "        file.close()\n",
    "        \n",
    "    S_db = np.stack([S_db[0], S_db[1]], axis=0)\n",
    "    audio = librosa.feature.inverse.mel_to_audio(S_db)\n",
    "    \n",
    "    print(audio.shape)\n",
    "    \n",
    "    '''p = pyaudio.PyAudio()\n",
    "    \n",
    "    def callback(in_data, frame_count, time_info, status):\n",
    "        data = audio.tobytes()\n",
    "        return (data, pyaudio.paContinue)\n",
    "    \n",
    "    stream = p.open(format=pyaudio.paFloat32,\n",
    "                    channels=2,\n",
    "                    rate=int(48000/2),\n",
    "                    output=True,\n",
    "                    stream_callback=callback)\n",
    "    \n",
    "    stream.start_stream()\n",
    "    \n",
    "    while stream.is_active():\n",
    "        time.sleep(0.1)\n",
    "        \n",
    "    stream.stop_stream()\n",
    "    stream.close()\n",
    "    \n",
    "    p.terminate()'''\n",
    "    \n",
    "    return audio\n",
    "        \n",
    "audio = play_audio('hardLeft_EFT_breathing_10.gz')"
   ]
  },
  {
   "cell_type": "code",
   "execution_count": 14,
   "metadata": {},
   "outputs": [
    {
     "data": {
      "text/plain": [
       "[<matplotlib.lines.Line2D at 0x15f883ac588>]"
      ]
     },
     "execution_count": 14,
     "metadata": {},
     "output_type": "execute_result"
    }
   ],
   "source": [
    "import matplotlib.pyplot as plt\n",
    "\n",
    "plt.subplot(1,2,1)\n",
    "plt.plot(audio[0])\n",
    "\n",
    "plt.subplot(1,2,2)\n",
    "plt.plot(audio[1])"
   ]
  },
  {
   "cell_type": "code",
   "execution_count": 9,
   "metadata": {},
   "outputs": [],
   "source": [
    "import sounddevice as sd"
   ]
  },
  {
   "cell_type": "code",
   "execution_count": 10,
   "metadata": {},
   "outputs": [],
   "source": [
    "audio = np.transpose(audio)"
   ]
  },
  {
   "cell_type": "code",
   "execution_count": 13,
   "metadata": {},
   "outputs": [],
   "source": [
    "sd.play(audio, 48000)\n",
    "sd.wait()"
   ]
  },
  {
   "cell_type": "code",
   "execution_count": null,
   "metadata": {},
   "outputs": [],
   "source": []
  }
 ],
 "metadata": {
  "kernelspec": {
   "display_name": "audio",
   "language": "python",
   "name": "python3"
  },
  "language_info": {
   "codemirror_mode": {
    "name": "ipython",
    "version": 3
   },
   "file_extension": ".py",
   "mimetype": "text/x-python",
   "name": "python",
   "nbconvert_exporter": "python",
   "pygments_lexer": "ipython3",
   "version": "3.6.13"
  },
  "orig_nbformat": 4,
  "vscode": {
   "interpreter": {
    "hash": "9ff175135632c6ed055a673727c4fdf32c227ab3ac13e4382fbf4e9ac594a27f"
   }
  }
 },
 "nbformat": 4,
 "nbformat_minor": 2
}
